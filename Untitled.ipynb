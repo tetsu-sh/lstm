{
 "cells": [
  {
   "cell_type": "code",
   "execution_count": 3,
   "metadata": {},
   "outputs": [],
   "source": [
    "import pandas as pd\n",
    "import numpy as np\n",
    "import seaborn as sns\n",
    "import matplotlib.pyplot as plt\n",
    "import oandapy\n",
    "import configparser\n",
    "import datetime\n",
    "from datetime import datetime,timedelta\n",
    "from pandas import Series,DataFrame\n",
    "from sklearn.model_selection import train_test_split"
   ]
  },
  {
   "cell_type": "code",
   "execution_count": 57,
   "metadata": {},
   "outputs": [
    {
     "data": {
      "image/png": "[encoded data removed]",
      "text/plain": [
       "<Figure size 432x288 with 1 Axes>"
      ]
     },
     "metadata": {
      "needs_background": "light"
     },
     "output_type": "display_data"
    },
    {
     "data": {
      "text/plain": [
       "'2017-05-31'"
      ]
     },
     "execution_count": 57,
     "metadata": {},
     "output_type": "execute_result"
    }
   ],
   "source": [
    "df=pd.read_csv(\"9684_2017.csv\",encoding=\"SHIFT-JIS\",skiprows=1)\n",
    "df=df[[\"日付\",\"始値\",\"高値\",\"安値\",\"終値\"]]\n",
    "x=df.drop(\"終値\",axis=1)\n",
    "y=df[\"終値\"]\n",
    "plt.plot(df[\"日付\"],df[\"終値\"])\n",
    "plt.xlabel(\"day\")\n",
    "plt.ylabel(\"finish\")\n",
    "#plt.xticks\n",
    "plt.show()\n",
    "df[\"日付\"][100]"
   ]
  },
  {
   "cell_type": "code",
   "execution_count": 24,
   "metadata": {},
   "outputs": [],
   "source": [
    "length_of_sequences=100\n",
    "x_train,x_test,y_train,y_test=train_test_split(x,y,test_size=0.1,random_state=0)"
   ]
  },
  {
   "cell_type": "code",
   "execution_count": 28,
   "metadata": {},
   "outputs": [],
   "source": [
    "# 直前のn_prev 日分のデータと、その次の営業日のデータを生成\n",
    "def _load_data(data, n_prev = 50):  \n",
    "   \n",
    "    docX, docY = [], []\n",
    "    for i in range(len(data)-n_prev):\n",
    "        docX.append(data.iloc[i:i+n_prev].as_matrix())\n",
    "        docY.append(data.iloc[i+n_prev].as_matrix())\n",
    "    alsX = np.array(docX)\n",
    "    alsY = np.array(docY)\n",
    "\n",
    "    return alsX, alsY\n",
    "# 学習用とテスト用データを分割、ただし分割する際に_load_data()を適用\n",
    "def train_test_split(df, test_size=0.1, n_prev = 100):  \n",
    "    \"\"\"\n",
    "    This just splits data to training and testing parts\n",
    "    \"\"\"\n",
    "    ntrn = round(len(df) * (1 - test_size))\n",
    "    ntrn = int(ntrn)\n",
    "    X_train, y_train = _load_data(df.iloc[0:ntrn], n_prev)\n",
    "    X_test, y_test = _load_data(df.iloc[ntrn:], n_prev)\n",
    "\n",
    "    return (X_train, y_train), (X_test, y_test)"
   ]
  },
  {
   "cell_type": "code",
   "execution_count": 42,
   "metadata": {},
   "outputs": [
    {
     "name": "stderr",
     "output_type": "stream",
     "text": [
      "/Users/shinmyotetsu/.pyenv/versions/anaconda3-5.3.1/envs/tfgpu/lib/python3.7/site-packages/ipykernel_launcher.py:6: FutureWarning: Method .as_matrix will be removed in a future version. Use .values instead.\n",
      "  \n",
      "/Users/shinmyotetsu/.pyenv/versions/anaconda3-5.3.1/envs/tfgpu/lib/python3.7/site-packages/ipykernel_launcher.py:7: FutureWarning: Method .as_matrix will be removed in a future version. Use .values instead.\n",
      "  import sys\n"
     ]
    },
    {
     "data": {
      "text/plain": [
       "array([[0.90735377],\n",
       "       [0.90864446],\n",
       "       [0.90606309],\n",
       "       [0.8828307 ],\n",
       "       [0.86605175],\n",
       "       [0.86863313],\n",
       "       [0.84798212],\n",
       "       [0.84927281],\n",
       "       [0.84669143],\n",
       "       [0.82733111],\n",
       "       [0.81313354],\n",
       "       [0.82087767],\n",
       "       [0.81571492],\n",
       "       [0.83507524],\n",
       "       [0.82216836],\n",
       "       [0.82345904],\n",
       "       [0.8170056 ],\n",
       "       [0.82087767],\n",
       "       [0.80926147],\n",
       "       [0.81055216],\n",
       "       [0.80151735],\n",
       "       [0.80797079],\n",
       "       [0.80538941],\n",
       "       [0.81313354],\n",
       "       [0.81313354],\n",
       "       [0.80926147],\n",
       "       [0.81958698],\n",
       "       [0.82474973],\n",
       "       [0.8389473 ],\n",
       "       [0.85185418],\n",
       "       [0.8286218 ],\n",
       "       [0.85443556],\n",
       "       [0.86347038],\n",
       "       [0.90348171],\n",
       "       [0.90219102],\n",
       "       [0.90606309],\n",
       "       [0.9267141 ],\n",
       "       [0.88670276],\n",
       "       [0.89057483],\n",
       "       [0.91638859],\n",
       "       [0.91767928],\n",
       "       [0.91767928],\n",
       "       [0.90606309],\n",
       "       [0.91251653],\n",
       "       [0.89960965],\n",
       "       [0.8828307 ],\n",
       "       [0.91122584],\n",
       "       [0.9047724 ],\n",
       "       [0.90993515],\n",
       "       [0.90864446],\n",
       "       [0.90606309],\n",
       "       [0.91767928],\n",
       "       [0.92413272],\n",
       "       [0.9589813 ],\n",
       "       [0.96285337],\n",
       "       [0.96414405],\n",
       "       [0.94607442],\n",
       "       [0.93445823],\n",
       "       [0.92155134],\n",
       "       [0.94091167],\n",
       "       [0.9486558 ],\n",
       "       [0.95252786],\n",
       "       [0.96156268],\n",
       "       [1.00028332],\n",
       "       [1.0028647 ],\n",
       "       [1.00028332],\n",
       "       [1.0028647 ],\n",
       "       [0.99770195],\n",
       "       [1.0028647 ],\n",
       "       [0.98608575],\n",
       "       [0.95769061],\n",
       "       [0.9912485 ],\n",
       "       [0.94994648],\n",
       "       [0.92929547],\n",
       "       [0.92929547],\n",
       "       [0.92155134],\n",
       "       [0.91251653],\n",
       "       [0.90219102],\n",
       "       [0.92800478],\n",
       "       [0.94220235],\n",
       "       [0.91767928],\n",
       "       [0.92026066],\n",
       "       [0.93833029],\n",
       "       [0.94220235],\n",
       "       [0.94349304],\n",
       "       [0.94736511],\n",
       "       [0.93833029],\n",
       "       [0.9370396 ],\n",
       "       [0.93833029],\n",
       "       [0.93833029],\n",
       "       [0.93445823],\n",
       "       [0.92929547],\n",
       "       [0.93316754],\n",
       "       [0.92155134],\n",
       "       [0.90348171],\n",
       "       [0.90606309],\n",
       "       [0.90735377],\n",
       "       [0.96414405]])"
      ]
     },
     "execution_count": 42,
     "metadata": {},
     "output_type": "execute_result"
    }
   ],
   "source": [
    "# 全体の平均値で割る\n",
    "import sys\n",
    "df['obs'] = df['終値'] / df['終値'].mean()\n",
    "length_of_sequences = 50\n",
    "(X_train, y_train), (X_test, y_test) = train_test_split(df[['obs']], test_size = 0.4, n_prev = length_of_sequences)\n",
    "y_train"
   ]
  },
  {
   "cell_type": "code",
   "execution_count": 45,
   "metadata": {},
   "outputs": [],
   "source": [
    "from keras.models import Sequential  \n",
    "from keras.layers.core import Dense, Activation  \n",
    "from keras.layers.recurrent import LSTM\n",
    "\n",
    "in_out_neurons = 1\n",
    "hidden_neurons = 300\n",
    "\n",
    "model = Sequential()  \n",
    "model.add(LSTM(hidden_neurons, batch_input_shape=(None, length_of_sequences, in_out_neurons), return_sequences=False))  \n",
    "model.add(Dense(in_out_neurons))  \n",
    "model.add(Activation(\"linear\"))  "
   ]
  },
  {
   "cell_type": "code",
   "execution_count": 46,
   "metadata": {},
   "outputs": [
    {
     "name": "stdout",
     "output_type": "stream",
     "text": [
      "Train on 78 samples, validate on 20 samples\n",
      "Epoch 1/50\n",
      "78/78 [==============================] - 1s 13ms/step - loss: 0.8399 - acc: 0.0000e+00 - val_loss: 0.5379 - val_acc: 0.0000e+00\n",
      "Epoch 2/50\n",
      "78/78 [==============================] - 0s 1ms/step - loss: 0.5000 - acc: 0.0000e+00 - val_loss: 0.2380 - val_acc: 0.0000e+00\n",
      "Epoch 3/50\n",
      "78/78 [==============================] - 0s 1ms/step - loss: 0.2244 - acc: 0.0000e+00 - val_loss: 0.0248 - val_acc: 0.0000e+00\n",
      "Epoch 4/50\n",
      "78/78 [==============================] - 0s 1ms/step - loss: 0.0269 - acc: 0.0000e+00 - val_loss: 0.1816 - val_acc: 0.0000e+00\n",
      "Epoch 5/50\n",
      "78/78 [==============================] - 0s 1ms/step - loss: 0.1466 - acc: 0.0000e+00 - val_loss: 0.0429 - val_acc: 0.0000e+00\n",
      "Epoch 6/50\n",
      "78/78 [==============================] - 0s 1ms/step - loss: 0.0354 - acc: 0.0000e+00 - val_loss: 3.3753e-04 - val_acc: 0.0000e+00\n",
      "Epoch 7/50\n",
      "78/78 [==============================] - 0s 1ms/step - loss: 0.0012 - acc: 0.0000e+00 - val_loss: 0.0120 - val_acc: 0.0000e+00\n",
      "Epoch 8/50\n",
      "78/78 [==============================] - 0s 1ms/step - loss: 0.0123 - acc: 0.0000e+00 - val_loss: 0.0296 - val_acc: 0.0000e+00\n",
      "Epoch 9/50\n",
      "78/78 [==============================] - 0s 1ms/step - loss: 0.0280 - acc: 0.0000e+00 - val_loss: 0.0404 - val_acc: 0.0000e+00\n",
      "Epoch 10/50\n",
      "78/78 [==============================] - 0s 1ms/step - loss: 0.0375 - acc: 0.0000e+00 - val_loss: 0.0427 - val_acc: 0.0000e+00\n",
      "Epoch 11/50\n",
      "78/78 [==============================] - 0s 1ms/step - loss: 0.0394 - acc: 0.0000e+00 - val_loss: 0.0381 - val_acc: 0.0000e+00\n",
      "Epoch 12/50\n",
      "78/78 [==============================] - 0s 1ms/step - loss: 0.0350 - acc: 0.0000e+00 - val_loss: 0.0288 - val_acc: 0.0000e+00\n",
      "Epoch 13/50\n",
      "78/78 [==============================] - 0s 1ms/step - loss: 0.0264 - acc: 0.0000e+00 - val_loss: 0.0176 - val_acc: 0.0000e+00\n",
      "Epoch 14/50\n",
      "78/78 [==============================] - 0s 1ms/step - loss: 0.0163 - acc: 0.0000e+00 - val_loss: 0.0075 - val_acc: 0.0000e+00\n",
      "Epoch 15/50\n",
      "78/78 [==============================] - 0s 1ms/step - loss: 0.0072 - acc: 0.0000e+00 - val_loss: 0.0013 - val_acc: 0.0000e+00\n",
      "Epoch 16/50\n",
      "78/78 [==============================] - 0s 1ms/step - loss: 0.0017 - acc: 0.0000e+00 - val_loss: 8.6488e-04 - val_acc: 0.0000e+00\n",
      "Epoch 17/50\n",
      "78/78 [==============================] - 0s 1ms/step - loss: 0.0016 - acc: 0.0000e+00 - val_loss: 0.0058 - val_acc: 0.0000e+00\n",
      "Epoch 18/50\n",
      "78/78 [==============================] - 0s 1ms/step - loss: 0.0064 - acc: 0.0000e+00 - val_loss: 0.0118 - val_acc: 0.0000e+00\n",
      "Epoch 19/50\n",
      "78/78 [==============================] - 0s 1ms/step - loss: 0.0121 - acc: 0.0000e+00 - val_loss: 0.0137 - val_acc: 0.0000e+00\n",
      "Epoch 20/50\n",
      "78/78 [==============================] - 0s 1ms/step - loss: 0.0139 - acc: 0.0000e+00 - val_loss: 0.0104 - val_acc: 0.0000e+00\n",
      "Epoch 21/50\n",
      "78/78 [==============================] - 0s 1ms/step - loss: 0.0109 - acc: 0.0000e+00 - val_loss: 0.0052 - val_acc: 0.0000e+00\n",
      "Epoch 22/50\n",
      "78/78 [==============================] - 0s 1ms/step - loss: 0.0060 - acc: 0.0000e+00 - val_loss: 0.0014 - val_acc: 0.0000e+00\n",
      "Epoch 23/50\n",
      "78/78 [==============================] - 0s 1ms/step - loss: 0.0022 - acc: 0.0000e+00 - val_loss: 2.8181e-04 - val_acc: 0.0000e+00\n",
      "Epoch 24/50\n",
      "78/78 [==============================] - 0s 1ms/step - loss: 8.7689e-04 - acc: 0.0000e+00 - val_loss: 0.0013 - val_acc: 0.0000e+00\n",
      "Epoch 25/50\n",
      "78/78 [==============================] - 0s 1ms/step - loss: 0.0015 - acc: 0.0000e+00 - val_loss: 0.0032 - val_acc: 0.0000e+00\n",
      "Epoch 26/50\n",
      "78/78 [==============================] - 0s 1ms/step - loss: 0.0031 - acc: 0.0000e+00 - val_loss: 0.0051 - val_acc: 0.0000e+00\n",
      "Epoch 27/50\n",
      "78/78 [==============================] - 0s 1ms/step - loss: 0.0047 - acc: 0.0000e+00 - val_loss: 0.0063 - val_acc: 0.0000e+00\n",
      "Epoch 28/50\n",
      "78/78 [==============================] - 0s 1ms/step - loss: 0.0056 - acc: 0.0000e+00 - val_loss: 0.0063 - val_acc: 0.0000e+00\n",
      "Epoch 29/50\n",
      "78/78 [==============================] - 0s 1ms/step - loss: 0.0057 - acc: 0.0000e+00 - val_loss: 0.0055 - val_acc: 0.0000e+00\n",
      "Epoch 30/50\n",
      "78/78 [==============================] - 0s 1ms/step - loss: 0.0050 - acc: 0.0000e+00 - val_loss: 0.0040 - val_acc: 0.0000e+00\n",
      "Epoch 31/50\n",
      "78/78 [==============================] - 0s 1ms/step - loss: 0.0037 - acc: 0.0000e+00 - val_loss: 0.0024 - val_acc: 0.0000e+00\n",
      "Epoch 32/50\n",
      "78/78 [==============================] - 0s 1ms/step - loss: 0.0023 - acc: 0.0000e+00 - val_loss: 0.0010 - val_acc: 0.0000e+00\n",
      "Epoch 33/50\n",
      "78/78 [==============================] - 0s 1ms/step - loss: 0.0013 - acc: 0.0000e+00 - val_loss: 3.3924e-04 - val_acc: 0.0000e+00\n",
      "Epoch 34/50\n",
      "78/78 [==============================] - 0s 1ms/step - loss: 8.3372e-04 - acc: 0.0000e+00 - val_loss: 3.9231e-04 - val_acc: 0.0000e+00\n",
      "Epoch 35/50\n",
      "78/78 [==============================] - 0s 1ms/step - loss: 0.0011 - acc: 0.0000e+00 - val_loss: 9.4216e-04 - val_acc: 0.0000e+00\n",
      "Epoch 36/50\n",
      "78/78 [==============================] - 0s 1ms/step - loss: 0.0017 - acc: 0.0000e+00 - val_loss: 0.0016 - val_acc: 0.0000e+00\n",
      "Epoch 37/50\n",
      "78/78 [==============================] - 0s 1ms/step - loss: 0.0024 - acc: 0.0000e+00 - val_loss: 0.0018 - val_acc: 0.0000e+00\n",
      "Epoch 38/50\n",
      "78/78 [==============================] - 0s 1ms/step - loss: 0.0027 - acc: 0.0000e+00 - val_loss: 0.0016 - val_acc: 0.0000e+00\n",
      "Epoch 39/50\n",
      "78/78 [==============================] - 0s 1ms/step - loss: 0.0025 - acc: 0.0000e+00 - val_loss: 0.0011 - val_acc: 0.0000e+00\n",
      "Epoch 40/50\n",
      "78/78 [==============================] - 0s 1ms/step - loss: 0.0019 - acc: 0.0000e+00 - val_loss: 5.4939e-04 - val_acc: 0.0000e+00\n",
      "Epoch 41/50\n",
      "78/78 [==============================] - 0s 1ms/step - loss: 0.0013 - acc: 0.0000e+00 - val_loss: 2.9019e-04 - val_acc: 0.0000e+00\n",
      "Epoch 42/50\n",
      "78/78 [==============================] - 0s 1ms/step - loss: 8.9676e-04 - acc: 0.0000e+00 - val_loss: 3.6950e-04 - val_acc: 0.0000e+00\n",
      "Epoch 43/50\n",
      "78/78 [==============================] - 0s 1ms/step - loss: 8.2636e-04 - acc: 0.0000e+00 - val_loss: 6.9619e-04 - val_acc: 0.0000e+00\n",
      "Epoch 44/50\n",
      "78/78 [==============================] - 0s 1ms/step - loss: 0.0010 - acc: 0.0000e+00 - val_loss: 0.0011 - val_acc: 0.0000e+00\n",
      "Epoch 45/50\n",
      "78/78 [==============================] - 0s 1ms/step - loss: 0.0013 - acc: 0.0000e+00 - val_loss: 0.0014 - val_acc: 0.0000e+00\n",
      "Epoch 46/50\n",
      "78/78 [==============================] - 0s 1ms/step - loss: 0.0015 - acc: 0.0000e+00 - val_loss: 0.0015 - val_acc: 0.0000e+00\n",
      "Epoch 47/50\n",
      "78/78 [==============================] - 0s 1ms/step - loss: 0.0016 - acc: 0.0000e+00 - val_loss: 0.0014 - val_acc: 0.0000e+00\n",
      "Epoch 48/50\n",
      "78/78 [==============================] - 0s 1ms/step - loss: 0.0015 - acc: 0.0000e+00 - val_loss: 0.0011 - val_acc: 0.0000e+00\n",
      "Epoch 49/50\n",
      "78/78 [==============================] - 0s 1ms/step - loss: 0.0013 - acc: 0.0000e+00 - val_loss: 7.2740e-04 - val_acc: 0.0000e+00\n",
      "Epoch 50/50\n",
      "78/78 [==============================] - 0s 1ms/step - loss: 0.0010 - acc: 0.0000e+00 - val_loss: 4.5103e-04 - val_acc: 0.0000e+00\n"
     ]
    }
   ],
   "source": [
    "model.compile(loss=\"mean_squared_error\", optimizer=\"adam\",metrics=['accuracy'])\n",
    "history = model.fit(X_train, y_train, batch_size=100, epochs=50, validation_split=0.2)"
   ]
  },
  {
   "cell_type": "code",
   "execution_count": 9,
   "metadata": {},
   "outputs": [],
   "source": [
    "import matplotlib.pyplot as plt\n"
   ]
  },
  {
   "cell_type": "code",
   "execution_count": 33,
   "metadata": {},
   "outputs": [
    {
     "data": {
      "image/png": "[encoded data removed]",
      "text/plain": [
       "<Figure size 432x288 with 1 Axes>"
      ]
     },
     "metadata": {
      "needs_background": "light"
     },
     "output_type": "display_data"
    }
   ],
   "source": [
    "loss=history.history['loss']\n",
    "val_los=history.history[\"val_loss\"]\n",
    "epochs=len(loss)\n",
    "plt.plot(range(epochs),loss)\n",
    "plt.plot(range(epochs),val_los)\n",
    "plt.show()"
   ]
  },
  {
   "cell_type": "code",
   "execution_count": 48,
   "metadata": {},
   "outputs": [
    {
     "ename": "AttributeError",
     "evalue": "'DataFrame' object has no attribute 'show'",
     "output_type": "error",
     "traceback": [
      "\u001b[0;31m---------------------------------------------------------------------------\u001b[0m",
      "\u001b[0;31mAttributeError\u001b[0m                            Traceback (most recent call last)",
      "\u001b[0;32m<ipython-input-48-7c0078ef4d40>\u001b[0m in \u001b[0;36m<module>\u001b[0;34m\u001b[0m\n\u001b[1;32m      4\u001b[0m \u001b[0mdataf\u001b[0m\u001b[0;34m[\u001b[0m\u001b[0;34m\"test\"\u001b[0m\u001b[0;34m]\u001b[0m\u001b[0;34m=\u001b[0m\u001b[0my_test\u001b[0m\u001b[0;34m\u001b[0m\u001b[0;34m\u001b[0m\u001b[0m\n\u001b[1;32m      5\u001b[0m \u001b[0mdataf\u001b[0m\u001b[0;34m.\u001b[0m\u001b[0mplot\u001b[0m\u001b[0;34m(\u001b[0m\u001b[0mfigsize\u001b[0m\u001b[0;34m=\u001b[0m\u001b[0;34m(\u001b[0m\u001b[0;36m15\u001b[0m\u001b[0;34m,\u001b[0m\u001b[0;36m5\u001b[0m\u001b[0;34m)\u001b[0m\u001b[0;34m)\u001b[0m\u001b[0;34m\u001b[0m\u001b[0;34m\u001b[0m\u001b[0m\n\u001b[0;32m----> 6\u001b[0;31m \u001b[0mdataf\u001b[0m\u001b[0;34m.\u001b[0m\u001b[0mshow\u001b[0m\u001b[0;34m(\u001b[0m\u001b[0;34m)\u001b[0m\u001b[0;34m\u001b[0m\u001b[0;34m\u001b[0m\u001b[0m\n\u001b[0m",
      "\u001b[0;32m~/.pyenv/versions/anaconda3-5.3.1/envs/tfgpu/lib/python3.7/site-packages/pandas/core/generic.py\u001b[0m in \u001b[0;36m__getattr__\u001b[0;34m(self, name)\u001b[0m\n\u001b[1;32m   5065\u001b[0m             \u001b[0;32mif\u001b[0m \u001b[0mself\u001b[0m\u001b[0;34m.\u001b[0m\u001b[0m_info_axis\u001b[0m\u001b[0;34m.\u001b[0m\u001b[0m_can_hold_identifiers_and_holds_name\u001b[0m\u001b[0;34m(\u001b[0m\u001b[0mname\u001b[0m\u001b[0;34m)\u001b[0m\u001b[0;34m:\u001b[0m\u001b[0;34m\u001b[0m\u001b[0;34m\u001b[0m\u001b[0m\n\u001b[1;32m   5066\u001b[0m                 \u001b[0;32mreturn\u001b[0m \u001b[0mself\u001b[0m\u001b[0;34m[\u001b[0m\u001b[0mname\u001b[0m\u001b[0;34m]\u001b[0m\u001b[0;34m\u001b[0m\u001b[0;34m\u001b[0m\u001b[0m\n\u001b[0;32m-> 5067\u001b[0;31m             \u001b[0;32mreturn\u001b[0m \u001b[0mobject\u001b[0m\u001b[0;34m.\u001b[0m\u001b[0m__getattribute__\u001b[0m\u001b[0;34m(\u001b[0m\u001b[0mself\u001b[0m\u001b[0;34m,\u001b[0m \u001b[0mname\u001b[0m\u001b[0;34m)\u001b[0m\u001b[0;34m\u001b[0m\u001b[0;34m\u001b[0m\u001b[0m\n\u001b[0m\u001b[1;32m   5068\u001b[0m \u001b[0;34m\u001b[0m\u001b[0m\n\u001b[1;32m   5069\u001b[0m     \u001b[0;32mdef\u001b[0m \u001b[0m__setattr__\u001b[0m\u001b[0;34m(\u001b[0m\u001b[0mself\u001b[0m\u001b[0;34m,\u001b[0m \u001b[0mname\u001b[0m\u001b[0;34m,\u001b[0m \u001b[0mvalue\u001b[0m\u001b[0;34m)\u001b[0m\u001b[0;34m:\u001b[0m\u001b[0;34m\u001b[0m\u001b[0;34m\u001b[0m\u001b[0m\n",
      "\u001b[0;31mAttributeError\u001b[0m: 'DataFrame' object has no attribute 'show'"
     ]
    },
    {
     "data": {
      "image/png": "[encoded data removed]",
      "text/plain": [
       "<Figure size 1080x360 with 1 Axes>"
      ]
     },
     "metadata": {
      "needs_background": "light"
     },
     "output_type": "display_data"
    }
   ],
   "source": [
    "predicted=model.predict(X_test)\n",
    "dataf=pd.DataFrame(predicted)\n",
    "dataf.columns=[\"predict\"]\n",
    "dataf[\"test\"]=y_test\n",
    "dataf.plot(figsize=(15,5))\n"
   ]
  },
  {
   "cell_type": "code",
   "execution_count": null,
   "metadata": {},
   "outputs": [],
   "source": []
  }
 ],
 "metadata": {
  "kernelspec": {
   "display_name": "Python 3",
   "language": "python",
   "name": "python3"
  },
  "language_info": {
   "codemirror_mode": {
    "name": "ipython",
    "version": 3
   },
   "file_extension": ".py",
   "mimetype": "text/x-python",
   "name": "python",
   "nbconvert_exporter": "python",
   "pygments_lexer": "ipython3",
   "version": "3.7.2"
  }
 },
 "nbformat": 4,
 "nbformat_minor": 2
}
